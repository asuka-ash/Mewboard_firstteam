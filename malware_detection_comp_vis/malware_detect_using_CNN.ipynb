{
 "cells": [
  {
   "cell_type": "code",
   "execution_count": 4,
   "metadata": {},
   "outputs": [],
   "source": [
    "import os\n",
    "from sklearn.utils import class_weight\n",
    "import numpy as np\n",
    "from tensorflow import keras\n",
    "from keras.preprocessing.image import ImageDataGenerator\n",
    "from sklearn.model_selection import train_test_split\n",
    "from keras import layers\n"
   ]
  },
  {
   "cell_type": "code",
   "execution_count": 3,
   "metadata": {},
   "outputs": [
    {
     "name": "stdout",
     "output_type": "stream",
     "text": [
      "Found 9339 images belonging to 25 classes.\n"
     ]
    }
   ],
   "source": [
    "#Generating DataSet\n",
    "path_root = os.path.normpath('D:\\Mewboard\\code\\Data\\malimg_dataset')\n",
    "batches = ImageDataGenerator().flow_from_directory(directory=path_root, target_size=(64,64), batch_size=10000)\n",
    "imgs, labels = next(batches)\n",
    "\n",
    "#Split into train and test\n",
    "X_train, X_test, y_train, y_test = train_test_split(imgs/255.,labels, test_size=0.3)"
   ]
  },
  {
   "cell_type": "code",
   "execution_count": 5,
   "metadata": {},
   "outputs": [],
   "source": [
    "# Define Model\n",
    "num_classes = 25\n",
    "\n",
    "def malware_model():\n",
    "    Malware_model = keras.Sequential()\n",
    "    Malware_model.add(layers.Conv2D(30, kernel_size=(3, 3),\n",
    "                     activation='relu',\n",
    "                     input_shape=(64,64,3)))\n",
    "    Malware_model.add(layers.MaxPooling2D(pool_size=(2, 2)))\n",
    "    Malware_model.add(layers.Conv2D(15, (3, 3), activation='relu'))\n",
    "    Malware_model.add(layers.MaxPooling2D(pool_size=(2, 2)))\n",
    "    Malware_model.add(layers.Dropout(0.25))\n",
    "    Malware_model.add(layers.Flatten())\n",
    "    Malware_model.add(layers.Dense(128, activation='relu'))\n",
    "    Malware_model.add(layers.Dropout(0.5))\n",
    "    Malware_model.add(layers.Dense(50, activation='relu'))\n",
    "    Malware_model.add(layers.Dense(num_classes, activation='softmax'))\n",
    "    Malware_model.compile(loss='categorical_crossentropy', optimizer = 'adam', metrics=['accuracy'])\n",
    "    return Malware_model"
   ]
  },
  {
   "cell_type": "code",
   "execution_count": 9,
   "metadata": {},
   "outputs": [
    {
     "name": "stdout",
     "output_type": "stream",
     "text": [
      "Epoch 1/10\n",
      "205/205 [==============================] - 11s 48ms/step - loss: 1.7164 - accuracy: 0.4713 - val_loss: 0.8725 - val_accuracy: 0.6892\n",
      "Epoch 2/10\n",
      "205/205 [==============================] - 10s 48ms/step - loss: 0.8547 - accuracy: 0.6902 - val_loss: 0.4867 - val_accuracy: 0.8362\n",
      "Epoch 3/10\n",
      "205/205 [==============================] - 9s 46ms/step - loss: 0.5314 - accuracy: 0.8253 - val_loss: 0.3046 - val_accuracy: 0.9104\n",
      "Epoch 4/10\n",
      "205/205 [==============================] - 10s 47ms/step - loss: 0.3619 - accuracy: 0.8839 - val_loss: 0.2607 - val_accuracy: 0.9247\n",
      "Epoch 5/10\n",
      "205/205 [==============================] - 10s 49ms/step - loss: 0.2986 - accuracy: 0.9029 - val_loss: 0.2150 - val_accuracy: 0.9322\n",
      "Epoch 6/10\n",
      "205/205 [==============================] - 10s 50ms/step - loss: 0.2408 - accuracy: 0.9162 - val_loss: 0.1500 - val_accuracy: 0.9550\n",
      "Epoch 7/10\n",
      "205/205 [==============================] - 10s 50ms/step - loss: 0.2245 - accuracy: 0.9253 - val_loss: 0.1362 - val_accuracy: 0.9554\n",
      "Epoch 8/10\n",
      "205/205 [==============================] - 11s 55ms/step - loss: 0.1933 - accuracy: 0.9350 - val_loss: 0.1338 - val_accuracy: 0.9561\n",
      "Epoch 9/10\n",
      "205/205 [==============================] - 11s 51ms/step - loss: 0.1833 - accuracy: 0.9391 - val_loss: 0.1283 - val_accuracy: 0.9600\n",
      "Epoch 10/10\n",
      "205/205 [==============================] - 10s 49ms/step - loss: 0.1766 - accuracy: 0.9420 - val_loss: 0.1322 - val_accuracy: 0.9590\n",
      "88/88 [==============================] - 1s 11ms/step - loss: 0.1322 - accuracy: 0.9590\n"
     ]
    }
   ],
   "source": [
    "# Train and test our model  \n",
    "model = malware_model()                      \n",
    "model.fit(X_train, y_train, validation_data=(X_test, y_test), epochs=10)\n",
    "scores = model.evaluate(X_test, y_test)"
   ]
  }
 ],
 "metadata": {
  "kernelspec": {
   "display_name": "maldetect",
   "language": "python",
   "name": "python3"
  },
  "language_info": {
   "codemirror_mode": {
    "name": "ipython",
    "version": 3
   },
   "file_extension": ".py",
   "mimetype": "text/x-python",
   "name": "python",
   "nbconvert_exporter": "python",
   "pygments_lexer": "ipython3",
   "version": "3.10.0"
  },
  "orig_nbformat": 4
 },
 "nbformat": 4,
 "nbformat_minor": 2
}
